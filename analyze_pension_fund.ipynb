{
 "cells": [
  {
   "cell_type": "markdown",
   "metadata": {},
   "source": [
    "# Pension Fund Data analysis\n",
    "\n",
    "What we will get:\n Basic statistics on retired and active officers, with a plot of their age v. years of service\n",
    "How will we get there:\n First, explore the data to get a sense of what is in here, then narrow in on retired officers and what that can tell us about active ones. Finally, graph it out!\n",
    "Note that for the final story, the numbers are used to paint a picture of the age and service of active members in the force, not for predictive purposes. In this script, we go into what totals we get if we engage on more educated guessing (based on PABF information)."
   ]
  },
  {
   "cell_type": "code",
   "execution_count": null,
   "metadata": {
    "collapsed": true
   },
   "outputs": [],
   "source": [
    "library(dplyr)\n",
    "library(lubridate)\n",
    "library(ggplot2)"
   ]
  },
  {
   "cell_type": "code",
   "execution_count": 2,
   "metadata": {
    "collapsed": false
   },
   "outputs": [],
   "source": [
    "data <- read.csv('audit.csv')\n",
    "\n",
    "# rename df columns\n",
    "data$termination <- data$Date.of.Termination\n",
    "data$dohire <- data$Date.of.Hire.based.on.Service\n",
    "data$rank <- data$Rank.Code\n",
    "data$birth<-data$Year.of.Birth"
   ]
  },
  {
   "cell_type": "code",
   "execution_count": null,
   "metadata": {
    "collapsed": true
   },
   "outputs": [],
   "source": [
    "# number of NAs in termination date\n",
    "sum(is.na(as.Date(data$termination,\"%m/%d/%y\")))"
   ]
  },
  {
   "cell_type": "code",
   "execution_count": 4,
   "metadata": {
    "collapsed": false
   },
   "outputs": [
    {
     "data": {
      "text/plain": [
       "\n",
       "2012 2011 2015 2013 2014 2010 2008 2005 2007 2009 1999 2002 1998 2006 1991 2001 \n",
       " 576  483  435  403  388   11    9    7    7    7    4    4    3    3    2    2 \n",
       "1989 1990 1992 1993 1994 2000 2004 \n",
       "   1    1    1    1    1    1    1 "
      ]
     },
     "execution_count": 4,
     "metadata": {},
     "output_type": "execute_result"
    }
   ],
   "source": [
    "sort(table(format(as.Date(data$termination,\"%m/%d/%y\", na.rm = TRUE),\"%Y\")),decreasing=TRUE)"
   ]
  },
  {
   "cell_type": "code",
   "execution_count": 5,
   "metadata": {
    "collapsed": false
   },
   "outputs": [
    {
     "data": {
      "text/plain": [
       "\n",
       " November   January     April      June  February    August       May  December \n",
       "      325       286       225       190       186       185       180       179 \n",
       "     July     March September   October \n",
       "      165       159       149       122 "
      ]
     },
     "execution_count": 5,
     "metadata": {},
     "output_type": "execute_result"
    }
   ],
   "source": [
    "# get frequencies by month of termination\n",
    "sort(table(format(as.Date(data$termination,\"%m/%d/%y\", na.rm = TRUE),\"%B\")),decreasing=TRUE)"
   ]
  },
  {
   "cell_type": "code",
   "execution_count": 9,
   "metadata": {
    "collapsed": false
   },
   "outputs": [
    {
     "data": {
      "text/plain": [
       "\n",
       "1994 1995 1986 1991 1999 1998 2000 2006 2013 2001 1996 1997 1990 2002 2005 2004 \n",
       " 790  785  782  782  754  700  658  644  576  535  526  493  490  466  447  442 \n",
       "2015 2012 2003 1992 2007 1987 1993 2014 1985 1982 1988 2010 1989 2009 2008 1980 \n",
       " 441  430  406  399  349  339  326  305  268  239  223  169  147  129  113   79 \n",
       "1981 1983 1977 1973 2011 1976 1972 1970 1978 1971 1975 1969 2068 1979 1974 1984 \n",
       "  72   67   65   61   45   44   34   30   28   18   10    6    5    4    3    1 \n",
       "2066 2067 \n",
       "   1    1 "
      ]
     },
     "execution_count": 9,
     "metadata": {},
     "output_type": "execute_result"
    }
   ],
   "source": [
    "# get frequencies for year of hire\n",
    "yoh <- table(format(as.Date(data$dohire,\"%m/%d/%y\", na.rm = TRUE),\"%Y\"))\n",
    "sort(yoh, decreasing=TRUE)"
   ]
  },
  {
   "cell_type": "code",
   "execution_count": null,
   "metadata": {
    "collapsed": true
   },
   "outputs": [],
   "source": [
    "# breakdown of types in fund data\n",
    "table(data$Type)"
   ]
  },
  {
   "cell_type": "code",
   "execution_count": 10,
   "metadata": {
    "collapsed": true
   },
   "outputs": [],
   "source": [
    "retired <- data[data$Type == 'Service Retirement Annuities', ] # n = 2,123\n",
    "active <- data[data$Type == 'Active Officer', ] # n = 12,061\n",
    "disability <- data[data$Type == 'Disability Benefit Recipient', ] # n = 306\n",
    "inactive <- data[data$Type == 'Total Inactive Participants', ] # n = 237"
   ]
  },
  {
   "cell_type": "code",
   "execution_count": 13,
   "metadata": {
    "collapsed": false
   },
   "outputs": [
    {
     "data": {
      "text/html": [
       "2123"
      ],
      "text/latex": [
       "2123"
      ],
      "text/markdown": [
       "2123"
      ],
      "text/plain": [
       "[1] 2123"
      ]
     },
     "execution_count": 13,
     "metadata": {},
     "output_type": "execute_result"
    }
   ],
   "source": [
    "nrow(active) # sanity check"
   ]
  },
  {
   "cell_type": "markdown",
   "metadata": {},
   "source": [
    "## Retirements"
   ]
  },
  {
   "cell_type": "markdown",
   "metadata": {},
   "source": [
    "Let's analyze the data on the officers whose status is \"Service Retirement Annuities.\" We do not include other types of benefits-receiving officers to be as conservative as possible for the next summary statistics."
   ]
  },
  {
   "cell_type": "code",
   "execution_count": null,
   "metadata": {
    "collapsed": true
   },
   "outputs": [],
   "source": [
    "# Question: How many active officers had a start-dates by service in the last 5 years?\n",
    "active_hired <- as.Date(active$Date.of.Hire.based.on.Service, '%m/%d/%y')\n",
    "format(active_hired, \"%Y\")\n",
    "table(format(active_hired, \"%Y\"))"
   ]
  },
  {
   "cell_type": "code",
   "execution_count": null,
   "metadata": {
    "collapsed": true
   },
   "outputs": [],
   "source": [
    "# Question: Of retired officers, what were their termination year?\n",
    "retired_term <- as.Date(retired$Date.of.Termination, '%m/%d/%y')\n",
    "format(retired_term, \"%Y\")\n",
    "table(format(retired_hired, \"%Y\"))"
   ]
  },
  {
   "cell_type": "code",
   "execution_count": null,
   "metadata": {
    "collapsed": true
   },
   "outputs": [],
   "source": [
    "# Question: What is the average no of years of service for retired members? What is the ave year of birth?\n",
    "\n",
    "retired$birth<-retired$Year.of.Birth\n",
    "retired$age <- 2016 - retired$birth\n",
    "mean(retired$age)\n",
    "mean(retired$Service.Years, na.rm=TRUE)\n",
    "\n",
    "summary(retired$birth)"
   ]
  },
  {
   "cell_type": "markdown",
   "metadata": {},
   "source": [
    "## Active Members"
   ]
  },
  {
   "cell_type": "code",
   "execution_count": null,
   "metadata": {
    "collapsed": true
   },
   "outputs": [],
   "source": [
    "# Question: What is the number of active officers with 50+ years of age, who have served more than the ave. of retiree's total service\n",
    "# To get how many officers have served >= 26 years, the average, skip the filtering by age.\n",
    "# Similarly, for a raw count of officers who are eligible for \"55 and out,\" calculate with the age column\n",
    "\n",
    "# Number of active members, age 50 or older\n",
    "active$birth<-active$Year.of.Birth\n",
    "active$age <- 2016 - active$birth\n",
    "active_over50<-active[active$age >=50,]"
   ]
  },
  {
   "cell_type": "code",
   "execution_count": null,
   "metadata": {
    "collapsed": true
   },
   "outputs": [],
   "source": [
    "nrow(active_over50)"
   ]
  },
  {
   "cell_type": "code",
   "execution_count": null,
   "metadata": {
    "collapsed": true
   },
   "outputs": [],
   "source": [
    "service26 <-active_over50[active_over50$Service.Years>=26,]"
   ]
  },
  {
   "cell_type": "code",
   "execution_count": null,
   "metadata": {
    "collapsed": true
   },
   "outputs": [],
   "source": [
    "nrow(service26)"
   ]
  },
  {
   "cell_type": "code",
   "execution_count": null,
   "metadata": {
    "collapsed": true
   },
   "outputs": [],
   "source": [
    "# Question: What is the number of active officers who are eligible to retire?\n",
    "# Note that these estimates are chosen based on the presentation that the PABF gives all officers\n",
    "# who qualify for retirement. \n",
    "\n",
    "# 1) By having served 29+1d years\n",
    "# 1a) and are also >= 50 years old\n",
    "# 2) By having served 20+ years\n",
    "# 2a) and are also >= 50 years old"
   ]
  },
  {
   "cell_type": "code",
   "execution_count": null,
   "metadata": {
    "collapsed": true
   },
   "outputs": [],
   "source": [
    "# 1) 29 years and + 1day \n",
    "service29 <-active[active$Service.Years>=29,]\n",
    "service29_plus_a_day <- service29[service29$Service.Days>=1,]"
   ]
  },
  {
   "cell_type": "code",
   "execution_count": null,
   "metadata": {
    "collapsed": true
   },
   "outputs": [],
   "source": [
    "# 1a) \n",
    "nrow(service29_plus_a_day[service29_plus_a_day$age>=50,])"
   ]
  },
  {
   "cell_type": "code",
   "execution_count": null,
   "metadata": {
    "collapsed": true
   },
   "outputs": [],
   "source": [
    "# 2) 20 years\n",
    "service20 <-active[active$Service.Years>=20,]\n",
    "nrow(service20)"
   ]
  },
  {
   "cell_type": "code",
   "execution_count": null,
   "metadata": {
    "collapsed": true
   },
   "outputs": [],
   "source": [
    "# 2a) \n",
    "nrow(service20[service20$age>=50,])"
   ]
  },
  {
   "cell_type": "code",
   "execution_count": null,
   "metadata": {
    "collapsed": true
   },
   "outputs": [],
   "source": [
    "# Born on or before 1955\n",
    "nrow(active[active$birth<=1955,]) # n = 240"
   ]
  },
  {
   "cell_type": "code",
   "execution_count": null,
   "metadata": {
    "collapsed": true
   },
   "outputs": [],
   "source": [
    "# Born on or before 1955 AND service of 29+ years\n",
    "nrow(service29_plus_a_day[service29_plus_a_day$birth<=1955,]) # 55"
   ]
  },
  {
   "cell_type": "markdown",
   "metadata": {},
   "source": [
    "## Let's make a hexbin map"
   ]
  },
  {
   "cell_type": "code",
   "execution_count": null,
   "metadata": {
    "collapsed": true
   },
   "outputs": [],
   "source": [
    "# we add day, month and year to get a better estimate of time served\n",
    "# lubridate is good for this\n",
    "d <- days(active$Service.Days)\n",
    "m <- months(active$Service.Months)\n",
    "y <- years(active$Service.Years)\n",
    "\n",
    "active$time_served <- y+m+d\n",
    "active$duration <- as.duration(active$time_served) / dweeks(1)\n",
    "active$yduration <- as.duration(active$time_served) / dyears(1)"
   ]
  },
  {
   "cell_type": "code",
   "execution_count": null,
   "metadata": {
    "collapsed": true
   },
   "outputs": [],
   "source": [
    "library(hexbin)\n",
    "# hexbin is simple to use but not as straight-forward to manipulate axes and colors\n",
    "hbin <- hexbin(active$yduration, active$age, xbins = 40)\n",
    "plot(hbin)"
   ]
  },
  {
   "cell_type": "code",
   "execution_count": null,
   "metadata": {
    "collapsed": true
   },
   "outputs": [],
   "source": [
    "# For a more polished graph, use ggplot"
   ]
  },
  {
   "cell_type": "code",
   "execution_count": null,
   "metadata": {
    "collapsed": true
   },
   "outputs": [],
   "source": [
    "hex <- ggplot(active,aes(x=yduration,y=age)) + geom_hex(bins=30) +\n",
    "geom_hline(yintercept=55) + geom_vline(xintercept = 26) +\n",
    "theme_classic() + scale_fill_gradient(low = \"white\", high = \"black\")"
   ]
  },
  {
   "cell_type": "code",
   "execution_count": null,
   "metadata": {
    "collapsed": true
   },
   "outputs": [],
   "source": [
    "# format ticks and add highlight-lines where we want them\n",
    "ticks_hex <- hex +\n",
    "scale_x_continuous(breaks=seq(0,max(active$yduration, na.rm=TRUE),3))+\n",
    "scale_y_continuous(breaks=seq(0,max(active$age, na.rm=TRUE),5))"
   ]
  },
  {
   "cell_type": "code",
   "execution_count": null,
   "metadata": {
    "collapsed": true
   },
   "outputs": [],
   "source": [
    "# export to .eps because Illustrator is iffy with svg\n",
    "postscript(\"hex_bin.eps\")\n",
    "plot(ticks_hex, xlab = 'Years of Service', ylab = 'Age', color=TRUE)\n",
    "dev.off()"
   ]
  }
 ],
 "metadata": {
  "kernelspec": {
   "display_name": "R",
   "language": "R",
   "name": "ir"
  },
  "language_info": {
   "codemirror_mode": "r",
   "file_extension": ".r",
   "mimetype": "text/x-r-source",
   "name": "R",
   "pygments_lexer": "r",
   "version": "3.3.0"
  }
 },
 "nbformat": 4,
 "nbformat_minor": 0
}
